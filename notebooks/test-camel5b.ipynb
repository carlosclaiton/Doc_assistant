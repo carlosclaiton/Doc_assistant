{
 "cells": [
  {
   "cell_type": "markdown",
   "metadata": {},
   "source": [
    "# camel 5b"
   ]
  },
  {
   "cell_type": "markdown",
   "metadata": {},
   "source": [
    "## setup environment\n",
    "\n",
    "should print specs of computer"
   ]
  },
  {
   "cell_type": "code",
   "execution_count": 1,
   "metadata": {},
   "outputs": [],
   "source": [
    "import logging\n",
    "import sys\n",
    "\n",
    "logging.basicConfig(stream=sys.stdout, level=logging.INFO)\n",
    "logging.getLogger().addHandler(logging.StreamHandler(stream=sys.stdout))\n"
   ]
  },
  {
   "cell_type": "markdown",
   "metadata": {},
   "source": [
    "## load documents\n",
    "\n",
    "read documents"
   ]
  },
  {
   "cell_type": "code",
   "execution_count": 2,
   "metadata": {},
   "outputs": [],
   "source": [
    "# LOADING\n",
    "# knows how to read/write info from/to the OS\n",
    "import os\n",
    "import json\n",
    "from llama_index import SimpleDirectoryReader\n",
    "\n",
    "# read the huggingf ace API\n",
    "with open(\"../CONFIG_LIST.json\", \"r\") as file:\n",
    "    config = json.load(file)\n",
    "\n",
    "# hugging api-key\n",
    "os.environ['HUGGING_FACE_API_KEY'] = config[\"huggingFaceToken\"]\n",
    "HUGGING_FACE_API_KEY = os.environ.get(\"HUGGING_FACE_API_KEY\")\n",
    "\n",
    "# load the docs into memory\n",
    "documents = SimpleDirectoryReader('../documents').load_data() # reads whole drectory."
   ]
  },
  {
   "cell_type": "markdown",
   "metadata": {},
   "source": [
    "## tokenise documents"
   ]
  },
  {
   "cell_type": "code",
   "execution_count": 3,
   "metadata": {},
   "outputs": [
    {
     "name": "stderr",
     "output_type": "stream",
     "text": [
      "/home/jameslopes/git/HR_Assistant_DEWC/venv/lib/python3.10/site-packages/tqdm/auto.py:21: TqdmWarning: IProgress not found. Please update jupyter and ipywidgets. See https://ipywidgets.readthedocs.io/en/stable/user_install.html\n",
      "  from .autonotebook import tqdm as notebook_tqdm\n"
     ]
    },
    {
     "name": "stdout",
     "output_type": "stream",
     "text": [
      "/home/jameslopes/.cache/huggingface/hub/models--Writer--camel-5b-hf/snapshots/d1438e22a33b9115af0e47ab3a0fe844cbf588a6/added_tokens.json\n",
      "/home/jameslopes/.cache/huggingface/hub/models--Writer--camel-5b-hf/snapshots/d1438e22a33b9115af0e47ab3a0fe844cbf588a6/config.json\n",
      "/home/jameslopes/.cache/huggingface/hub/models--Writer--camel-5b-hf/snapshots/d1438e22a33b9115af0e47ab3a0fe844cbf588a6/generation_config.json\n",
      "/home/jameslopes/.cache/huggingface/hub/models--Writer--camel-5b-hf/snapshots/d1438e22a33b9115af0e47ab3a0fe844cbf588a6/special_tokens_map.json\n",
      "/home/jameslopes/.cache/huggingface/hub/models--Writer--camel-5b-hf/snapshots/d1438e22a33b9115af0e47ab3a0fe844cbf588a6/pytorch_model-00001-of-00003.bin\n",
      "/home/jameslopes/.cache/huggingface/hub/models--Writer--camel-5b-hf/snapshots/d1438e22a33b9115af0e47ab3a0fe844cbf588a6/pytorch_model-00002-of-00003.bin\n",
      "/home/jameslopes/.cache/huggingface/hub/models--Writer--camel-5b-hf/snapshots/d1438e22a33b9115af0e47ab3a0fe844cbf588a6/pytorch_model-00003-of-00003.bin\n",
      "/home/jameslopes/.cache/huggingface/hub/models--Writer--camel-5b-hf/snapshots/d1438e22a33b9115af0e47ab3a0fe844cbf588a6/pytorch_model.bin.index.json\n",
      "/home/jameslopes/.cache/huggingface/hub/models--Writer--camel-5b-hf/snapshots/d1438e22a33b9115af0e47ab3a0fe844cbf588a6/tokenizer_config.json\n",
      "/home/jameslopes/.cache/huggingface/hub/models--Writer--camel-5b-hf/snapshots/d1438e22a33b9115af0e47ab3a0fe844cbf588a6/vocab.json\n",
      "/home/jameslopes/.cache/huggingface/hub/models--Writer--camel-5b-hf/snapshots/d1438e22a33b9115af0e47ab3a0fe844cbf588a6/tokenizer.json\n"
     ]
    }
   ],
   "source": [
    "\n",
    "from huggingface_hub import hf_hub_download\n",
    "\n",
    "# select a model\n",
    "model_id = \"Writer/camel-5b-hf\"\n",
    "# https://huggingface.co/Writer/camel-5b-hf/tree/main\n",
    "\n",
    "# select files from model repository\n",
    "filenames = [\n",
    "        \"added_tokens.json\", \"config.json\", \"generation_config.json\", \n",
    "        \"special_tokens_map.json\", \"pytorch_model-00001-of-00003.bin\", \"pytorch_model-00002-of-00003.bin\",\n",
    "        \"pytorch_model-00003-of-00003.bin\", \"pytorch_model.bin.index.json\",\n",
    "        \"tokenizer_config.json\", \"vocab.json\",\"tokenizer.json\" \n",
    "]\n",
    "\n",
    "# download it\n",
    "# hf_hub_download modify to save in a folder ./models, git ignore\n",
    "for filename in filenames:\n",
    "    downloaded_model_path = hf_hub_download(\n",
    "        repo_id=model_id,\n",
    "        filename=filename,\n",
    "        token=HUGGING_FACE_API_KEY\n",
    "    )\n",
    "    print(downloaded_model_path)"
   ]
  },
  {
   "cell_type": "markdown",
   "metadata": {},
   "source": [
    "## "
   ]
  },
  {
   "cell_type": "markdown",
   "metadata": {},
   "source": [
    "## give the LLM a personality"
   ]
  },
  {
   "cell_type": "code",
   "execution_count": 4,
   "metadata": {},
   "outputs": [],
   "source": [
    "# setup prompts - specific to StableLM\n",
    "from llama_index.prompts import PromptTemplate\n",
    "\n",
    "# This will wrap the default prompts that are internal to llama-index\n",
    "query_wrapper_prompt = PromptTemplate(\n",
    "    \"As a Human Resources expert\"\n",
    "    \"write a response that appropriately completes the request.\\n\\n\"\n",
    "    \"### Instruction:\\n{query_str}\\n\\n### Response:\"\n",
    ")\n",
    "\n",
    "# prompt engineering - gets better answers"
   ]
  },
  {
   "cell_type": "markdown",
   "metadata": {},
   "source": [
    "## embedding "
   ]
  },
  {
   "cell_type": "code",
   "execution_count": 5,
   "metadata": {},
   "outputs": [
    {
     "name": "stdout",
     "output_type": "stream",
     "text": [
      "INFO:accelerate.utils.modeling:We will use 90% of the memory on device 0 for storing the model, and 10% for the buffer to avoid OOM. You can set `max_memory` in to a higher value to use more memory (at your own risk).\n",
      "We will use 90% of the memory on device 0 for storing the model, and 10% for the buffer to avoid OOM. You can set `max_memory` in to a higher value to use more memory (at your own risk).\n"
     ]
    },
    {
     "name": "stderr",
     "output_type": "stream",
     "text": [
      "Loading checkpoint shards: 100%|██████████| 3/3 [00:12<00:00,  4.19s/it]\n"
     ]
    },
    {
     "name": "stdout",
     "output_type": "stream",
     "text": [
      "INFO:sentence_transformers.SentenceTransformer:Load pretrained SentenceTransformer: hkunlp/instructor-base\n",
      "Load pretrained SentenceTransformer: hkunlp/instructor-base\n",
      "load INSTRUCTOR_Transformer\n",
      "max_seq_length  512\n",
      "INFO:sentence_transformers.SentenceTransformer:Use pytorch device: cuda\n",
      "Use pytorch device: cuda\n"
     ]
    }
   ],
   "source": [
    "import torch\n",
    "from llama_index.llms import HuggingFaceLLM\n",
    "from llama_index import GPTVectorStoreIndex, PromptHelper, ServiceContext, LLMPredictor\n",
    "from llama_index.embeddings import InstructorEmbedding\n",
    "# from langchain.embeddings.huggingface import HuggingFaceEmbeddings\n",
    "# can cammer\n",
    "\n",
    "# sets up the LLM model with context\n",
    "# each model is different\n",
    "# set temp to 0 = Repeatability \n",
    "# device_map = depends on model \n",
    "llm = HuggingFaceLLM(\n",
    "    context_window=2048,\n",
    "    max_new_tokens=256,\n",
    "    generate_kwargs={\"temperature\": 0, \"do_sample\": False},\n",
    "    query_wrapper_prompt=query_wrapper_prompt,\n",
    "    tokenizer_name=model_id,\n",
    "    model_name=model_id,\n",
    "    device_map=\"auto\",\n",
    "    tokenizer_kwargs={\"max_length\": 2048},\n",
    "    # uncomment this if using CUDA to reduce memory usage\n",
    "    model_kwargs={\"torch_dtype\": torch.float16}\n",
    ")\n",
    "\n",
    "# this grenades the vector indexes \n",
    "# max_chunk_overlap = 10% overlap to keep context of where everything came from\n",
    "# chunk_size_limit = tokens\n",
    "# TODO: save index to vector DB (Chroma)\n",
    "# max_input_size and context_window same size\n",
    "embed_model = InstructorEmbedding(model_name=\"hkunlp/instructor-base\")\n",
    "max_input_size = 2048\n",
    "num_output = 256\n",
    "max_chunk_overlap = 0.1\n",
    "chunk_size_limit = 600\n",
    "prompt_helper = PromptHelper(max_input_size, num_output,max_chunk_overlap,chunk_size_limit=chunk_size_limit)\n",
    "service_context = ServiceContext.from_defaults(llm=llm, prompt_helper=prompt_helper,embed_model=embed_model)\n",
    "\n",
    "# index content in the folder documents\n",
    "# saves the document to memory\n",
    "index = GPTVectorStoreIndex.from_documents(documents, service_context=service_context)\n",
    " \n",
    "# Save your index to a directory called storage\n",
    "# index.storage_context.persist(persist_dir=\"../storage\")"
   ]
  },
  {
   "cell_type": "markdown",
   "metadata": {},
   "source": [
    "## answer qustions"
   ]
  },
  {
   "cell_type": "code",
   "execution_count": 6,
   "metadata": {},
   "outputs": [],
   "source": [
    "# prompt = \"when was DEWC launched\"\n",
    "\n",
    "# prompt = \"How many females work for DEWC\"\n",
    "\n",
    "# query_engine = index.as_query_engine()\n",
    "# response = query_engine.query(prompt)\n",
    "\n",
    "# print(response)"
   ]
  },
  {
   "cell_type": "markdown",
   "metadata": {},
   "source": [
    "copied camel to separate jupiter-book, read all 100 questions and answer them "
   ]
  },
  {
   "cell_type": "code",
   "execution_count": null,
   "metadata": {},
   "outputs": [],
   "source": [
    "import pandas as pd\n",
    "import warnings\n",
    "\n",
    "# Suppress warnings from the transformer model\n",
    "warnings.filterwarnings('ignore')\n",
    "\n",
    "# Read the contents of the questionnaire.txt file\n",
    "with open('../questionnaire.txt', 'r') as file:\n",
    "    questions = file.readlines()\n",
    "\n",
    "# Initialize the query engine\n",
    "query_engine = index.as_query_engine()\n",
    "\n",
    "# Create a list to store the results\n",
    "results_model = []\n",
    "\n",
    "# Iterate over the questions and get answers from the query engine\n",
    "for prompt in questions:\n",
    "    prompt_cleaned = prompt.strip()\n",
    "    \n",
    "    # Query the engine and get the response\n",
    "    response = query_engine.query(prompt_cleaned)\n",
    "    \n",
    "    # Append the question and response to the results list\n",
    "    # Assuming 'model_id' is defined elsewhere in your script\n",
    "    results_model.append([model_id, prompt_cleaned, response])\n",
    "    \n",
    "    # Print the question and the response\n",
    "    print(f\"Question: {prompt_cleaned}\")\n",
    "    print(f\"Answer: {response}\\n\")\n",
    "\n",
    "# Convert the results list into a pandas DataFrame\n",
    "df = pd.DataFrame(results_model, columns=['Model ID', 'Question', 'Answer'])\n",
    "\n",
    "# Save the DataFrame to a CSV file\n",
    "df.to_csv('../results_model.csv', index=False)\n",
    "\n",
    "print(\"Results saved to CSV file.\")\n"
   ]
  },
  {
   "cell_type": "code",
   "execution_count": null,
   "metadata": {},
   "outputs": [],
   "source": [
    "results_model"
   ]
  },
  {
   "cell_type": "code",
   "execution_count": 9,
   "metadata": {},
   "outputs": [],
   "source": [
    "# 1: panda to csv\n",
    "# merge\n",
    "# new branch zepher"
   ]
  }
 ],
 "metadata": {
  "kernelspec": {
   "display_name": "venv",
   "language": "python",
   "name": "python3"
  },
  "language_info": {
   "codemirror_mode": {
    "name": "ipython",
    "version": 3
   },
   "file_extension": ".py",
   "mimetype": "text/x-python",
   "name": "python",
   "nbconvert_exporter": "python",
   "pygments_lexer": "ipython3",
   "version": "3.10.12"
  }
 },
 "nbformat": 4,
 "nbformat_minor": 2
}
